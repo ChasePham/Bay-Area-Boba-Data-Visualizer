{
 "cells": [
  {
   "cell_type": "markdown",
   "metadata": {},
   "source": [
    "Data Organization & Processing"
   ]
  },
  {
   "cell_type": "code",
   "execution_count": 16,
   "metadata": {},
   "outputs": [],
   "source": [
    "# Gets necessary imports\n",
    "import numpy as np\n",
    "import heapq\n",
    "import pandas as pd\n",
    "import matplotlib.pyplot as plt\n",
    "\n",
    "boba_data_set = pd.read_csv('bayarea_boba_spots.csv') # Reads the boba data set\n",
    "\n",
    "# Organizes the boba data into their own individual variables\n",
    "shop_names = boba_data_set['name'] # Gets all shop names\n",
    "ratings = boba_data_set['rating'] # Gets all ratings\n",
    "cities = boba_data_set['city'] # Gets all cities\n",
    "latitudes = boba_data_set['lat'] # Gets the latitudes\n",
    "longitudes = boba_data_set['long'] # Gets the Longitudes\n",
    "\n",
    "# Hashamp(or dictionary) is used to pair the names with the scores for easy access, and averages any repeated shop names\n",
    "# In each pair, the key will represent the store name, and the value will be a \n",
    "# numpy array holding two values: First index will be the average ratings,\n",
    "# and the second will be the total quantity of that specific shop\n",
    "hashmap = {}\n",
    "for i in range(len(shop_names)):\n",
    "    # Checks if the current shop already exist inside the hashmap, and add that to our total value.\n",
    "    if shop_names[i] in hashmap:\n",
    "        shop_arr = hashmap[shop_names[i]]\n",
    "        shop_arr[1] += 1\n",
    "        shop_arr[0] += float(ratings[i])\n",
    "    # Initializes a new shop if it is not already present inside the hashmap\n",
    "    else:\n",
    "        new_arr = [0,0]\n",
    "        new_arr[0] = float(ratings[i])\n",
    "        new_arr[1] = 1\n",
    "        hashmap[shop_names[i]] = new_arr\n",
    "\n",
    "# We now average all the ratings if they have more than one shop \n",
    "for current in hashmap.keys():\n",
    "    pair = hashmap[current]\n",
    "    avg = pair[0] / pair[1]\n",
    "    hashmap[current][0] = avg\n",
    "\n",
    "\n",
    "housing_data_set = pd.read_csv('housing.csv') # Reads the housing data set\n",
    "\n",
    "# Organizes the housing data into their own individual variables\n",
    "longitudes_house = housing_data_set['longitude'] # Gets the longitudes of the houses\n",
    "latitudes_house = housing_data_set['latitude'] # Gets the latitidues of the houses\n",
    "house_values = housing_data_set['median_house_value'] # Gets the median house values"
   ]
  },
  {
   "cell_type": "code",
   "execution_count": 20,
   "metadata": {},
   "outputs": [
    {
     "name": "stdout",
     "output_type": "stream",
     "text": [
      "[[-5.0, -1, 'Bobateani'], [-5.0, -1, 'Honey Bear Smoothie Tea & Dessert'], [-5.0, -1, 'Golden Bakery'], [-5.0, -1, 'Puppy Bobar'], [-5.0, -1, 'Taza Deli & Cafe'], [-4.5, -1, \"Antoine's Cookie Shop\"], [-5.0, -1, 'Waterfront Cafe'], [-5.0, -1, 'QTeaBar'], [-4.5, -1, '5 Sweets'], [-4.5, -1, 'DAVIDsTEA'], [-4.5, -1, '99% Tea House'], [-4.5, -1, 'Mints & Honey'], [-4.5, -1, 'Aqua Club Dessert & Beverage'], [-4.5, -1, 'Easel'], [-4.5, -1, 'Aung Maylika'], [-4.5, -1, 'Alice Street Bakery Café'], [-4.5, -1, 'Eat On Monday'], [-4.5, -1, 'Banh Mi Ba Le'], [-4.5, -1, 'Chilly & Munch'], [-4.5, -1, 'Sweet Gelato Tea Lounge'], [-4.5, -1, 'Happiness Cafe'], [-4.5, -1, 'Chantal Guillon Macarons & Teas'], [-4.5, -1, 'Keep it'], [-4.5, -1, 'Palm Thai Bistro'], [-4.5, -1, 'OMG Tea'], [-4.5, -1, 'BaoTea Cafe'], [-4.5, -1, 'Okashi Fusion'], [-4.5, -1, 'Steap Tea Bar'], [-4.5, -1, 'Going Green'], [-4.5, -1, 'Fusion Mix Frozen Yogurt'], [-4.5, -1, 'Blue Saigon'], [-4.5, -1, 'Calibear Cyber Cafe'], [-4.5, -1, 'Aloha Pure Water Shaved Ice'], [-4.5, -1, 'Starbread Bakery'], [-4.5, -1, 'Pho Saigon Village Noodle House'], [-4.5, -1, 'Milk & Cookie Bar'], [-4.5, -1, 'Pokeatery'], [-4.5, -1, 'Tea Hut'], [-4.5, -1, 'Katea'], [-4.357142857142857, -7, 'Happy Lemon'], [-4.0, -1, 'ChaTime San Jose'], [-4.5, -1, 'Ten Ren Tea Co of Milpitas'], [-4.5, -1, 'Poke Xpress'], [-4.5, -1, 'Heritage Eats'], [-4.5, -1, 'Good Earth Cafe'], [-4.5, -1, 'Sweet A Little'], [-4.5, -1, 'Little Heaven Deli'], [-4.5, -1, 'Tiger Tea & Juice'], [-4.0625, -16, 'i-Tea'], [-4.0, -3, 'Eggettes'], [-4.5, -1, 'Snacks'], [-4.0625, -16, 'i-Tea'], [-4.5, -1, 'Jougert Bar'], [-4.0, -2, 'Tasty Pot'], [-4.5, -1, 'TeaZenTea'], [-4.0, -9, 'Teaspoon'], [-4.0625, -16, 'i-Tea'], [-4.5, -1, 'Skyview Noodle & Tea'], [-4.5, -1, 'Quickly Brentwood'], [-4.25, -2, 'Mr. Green Bubble'], [-4.5, -1, 'New Thai Bistro'], [-4.5, -1, 'Cornology'], [-4.5, -1, 'Che-Lo'], [-4.5, -1, 'Teaquation'], [-4.5, -1, 'Sweet Spot'], [-4.5, -1, \"Sivan's Cafe\"], [-4.5, -1, 'Saratoga Bagels'], [-4.25, -2, 'One Tea'], [-4.5, -1, 'Steepers'], [-4.0, -9, 'Teaspoon'], [-4.166666666666667, -3, \"Menchie's Frozen Yogurt\"], [-4.5, -1, 'Tancca'], [-4.5, -1, 'Orange Tea'], [-4.5, -1, 'Sunnywich Cafe'], [-4.5, -1, 'Wondertea'], [-4.0, -2, 'The Tea Zone & Fruit Bar'], [-4.166666666666667, -3, \"Menchie's Frozen Yogurt\"], [-4.5, -1, 'The Boba Shop'], [-4.0, -1, 'Simply Boba'], [-4.0, -9, 'Teaspoon'], [-4.357142857142857, -7, 'Happy Lemon'], [-4.0, -1, 'T-LAB'], [-4.0, -1, 'Meow Tea'], [-4.0, -1, 'Homeplate Boba'], [-4.0, -2, 'Honeyberry'], [-4.0, -1, 'Aroma Coffee and Snacks'], [-4.0, -9, 'Teaspoon'], [-4.0, -2, 'Soyful Desserts'], [-4.0, -1, 'Ohana Express'], [-4.0, -4, 'Yogurtland'], [-4.25, -2, 'TeaTop'], [-4.25, -2, 'Mr. Green Bubble'], [-4.0625, -16, 'i-Tea'], [-4.0, -1, 'Cocohodo'], [-4.5, -1, 'World Wrapps 2.0'], [-4.0, -1, 'Royaltea USA'], [-4.357142857142857, -7, 'Happy Lemon'], [-4.0, -9, 'Teaspoon'], [-4.0, -9, 'Teaspoon'], [-4.0, -3, 'ICICLES'], [-4.0, -3, 'Eggettes'], [-4.0, -1, 'T&Bowl'], [-4.0625, -16, 'i-Tea'], [-4.0, -6, 'Boba Guys'], [-4.0625, -16, 'i-Tea'], [-4.0, -2, 'Asha Tea House'], [-4.5, -1, 'KingKat Bar & Eatery'], [-4.0, -1, 'Ramen Dojo'], [-4.0, -1, 'Halo Halo Bar & Boba Station'], [-4.0, -6, 'Boba Guys'], [-4.0625, -16, 'i-Tea'], [-4.0, -1, 'Boba Ninja'], [-4.0, -1, 'Blush Organic Frozen Yogurt'], [-3.8125, -8, 'Gong Cha'], [-4.0, -6, 'Boba Guys'], [-4.0, -6, 'Boba Guys'], [-4.0625, -16, 'i-Tea'], [-4.5, -1, 'Rrags Caffe'], [-4.0, -1, 'Ice Monster'], [-4.0, -3, 'ICICLES'], [-4.0625, -16, 'i-Tea'], [-4.0625, -16, 'i-Tea'], [-4.0625, -16, 'i-Tea'], [-4.5, -1, 'Sweet Orchid'], [-4.5, -1, 'Storm Crepes'], [-4.5, -1, \"IzzyA's Frozen Custard\"], [-4.5, -1, 'Tangelo Frozen Yogurt'], [-4.0, -1, \"Lulu's Kitchen\"], [-4.5, -1, 'The Burrow'], [-4.0, -1, 'Ten Ren Tea Co'], [-4.5, -1, 'World Wrapps'], [-3.75, -4, 'Tpumps'], [-4.5, -1, 'Sweet Belly'], [-4.0, -1, '8-Twelve Oriental Market'], [-4.5, -1, 'TECO Tea & Coffee Bar'], [-4.0, -1, 'Bubble Tea Share Time'], [-4.166666666666667, -3, \"Menchie's Frozen Yogurt\"], [-4.0, -1, 'Pekoe'], [-4.357142857142857, -7, 'Happy Lemon'], [-4.0, -9, 'Teaspoon'], [-4.0, -2, 'The Tea Zone & Fruit Bar'], [-4.0, -9, 'Teaspoon'], [-4.0, -1, 'Passion-T Snacks and Desserts'], [-4.0, -1, 'Matcha Love'], [-4.0, -2, 'MandRo Teahouse'], [-4.0, -1, 'STEEP Creamery & Tea'], [-4.357142857142857, -7, 'Happy Lemon'], [-4.5, -1, \"World's Fare Donuts\"], [-4.0, -2, 'Soyful Desserts'], [-4.0, -1, 'California Mochi'], [-4.25, -2, 'One Tea'], [-4.0, -1, 'Big Fat Straw Cafe'], [-4.0, -1, 'Createave Cafe'], [-4.0625, -16, 'i-Tea'], [-4.0, -1, 'Ice3 Creamery'], [-4.0, -1, 'Bean Scene Cafe'], [-4.25, -2, 'TeaTop'], [-3.8, -15, 'Sharetea'], [-4.0, -1, 'Vampire Penguin featuring Jastea'], [-4.0, -1, 'Amor Cafe and Tea'], [-3.5, -18, 'T4'], [-4.0, -1, 'BCUTE tea drinks and finger foods'], [-4.0, -9, 'Teaspoon'], [-3.5, -1, 'Tea FM'], [-3.5, -18, 'T4'], [-4.0, -1, 'The Pennywort'], [-4.0, -1, 'T Spot Boba Drinks & Snacks'], [-3.5, -3, '85°C Bakery Cafe'], [-3.7777777777777777, -9, 'BAMBU'], [-3.625, -4, 'Fantasia Coffee & Tea'], [-4.0, -1, 'Shihlin Taiwan Street Snacks'], [-4.0, -1, 'Sweet CoCo'], [-4.0, -1, 'BFresh Snacks & Drinks'], [-4.0, -1, 'BeiBay Tea'], [-4.0, -1, 'Bare Bowls'], [-3.8125, -8, 'Gong Cha'], [-4.0, -1, 'Fraiche'], [-3.5, -1, 'Coupa Café'], [-4.0, -1, 'Oooh'], [-3.5, -1, 'Coupa Café - Lytton'], [-3.5, -1, 'Green Bakery & Café'], [-3.5, -3, 'Purple Kow'], [-3.6666666666666665, -3, 'Cool Tea Bar'], [-4.0, -1, 'Froyola'], [-3.5, -1, 'Coupa Cafe - Green Library'], [-3.5, -1, 'Nekter Juice Bar'], [-4.0, -1, 'Green Leaf Asian Bistro & Cafe'], [-3.625, -4, 'Fantasia Coffee & Tea'], [-3.5, -1, 'Bean Scene'], [-3.8, -15, 'Sharetea'], [-4.0, -2, 'Honeyberry'], [-3.5, -1, \"Frozo's Frozen Yogurt\"], [-3.6666666666666665, -3, 'Cool Tea Bar'], [-4.0, -1, 'Bobabia'], [-4.0625, -16, 'i-Tea'], [-4.0, -1, 'Westea'], [-4.0, -1, 'Cha Express'], [-4.0, -1, 'i-Tea - Dublin'], [-4.0, -1, 'Tea World'], [-4.0, -1, 'Tea Island'], [-3.7777777777777777, -9, 'BAMBU'], [-4.0, -1, 'Fifty / Fifty Coffee and Tea'], [-4.0, -1, 'Tea Factory'], [-3.8, -15, 'Sharetea'], [-3.75, -2, 'Cafe Tapioca'], [-4.0, -1, 'Ya-Ua Yogurt & Boba Tea'], [-4.0, -1, 'Creme Brewlee'], [-4.0, -1, 'U Cha'], [-4.0, -3, 'ICICLES'], [-4.0, -1, '360 Crepes'], [-4.0, -1, 'Clear Optometry'], [-3.5, -2, 'Snowflake'], [-4.0, -1, 'Poke Island CreAsian Kitchen'], [-4.0, -1, 'Cafe Junction'], [-4.0, -1, 'Cafe Taiwan'], [-4.0, -1, 'The Mix Creamery'], [-4.0, -1, 'Wing Man'], [-4.0, -1, \"O'Honey\"], [-4.0, -1, 'Tutti Frutti'], [-4.0, -1, \"Menchie's  Frozen Yogurt\"], [-4.0, -1, 'Blossom Bee'], [-4.0, -1, 'Happy Lemon Berkeley'], [-4.0, -2, 'MandRo Teahouse'], [-4.0, -1, 'Pho Saigon No 1 Vietnamese Restaurant'], [-4.0, -1, 'OnTap'], [-4.0, -1, 'Milk Tea Lab'], [-4.0, -1, 'Kee Wah Bakery'], [-3.5, -1, 'Dragon Snow'], [-3.8, -15, 'Sharetea'], [-3.5, -1, 'Suisun Seafood Center'], [-4.0, -4, 'Yogurtland'], [-4.0, -1, 'Bangkok Paradise'], [-4.0, -1, 'The Old Teahouse'], [-4.0, -2, 'Tea Era'], [-4.0, -1, 'Tandoori Pizza'], [-4.0, -1, 'Gelato Firenze and QTea Bar'], [-4.0, -1, 'Amakara'], [-3.5, -1, 'Pho Saigon Garden'], [-3.5, -18, 'T4'], [-3.5, -18, 'T4'], [-3.6666666666666665, -3, 'Cool Tea Bar'], [-3.5, -1, 'T4 And Poke'], [-4.0, -2, 'Tasty Pot'], [-4.0, -1, 'Coco Swirl'], [-4.0, -1, 'Harvest House'], [-4.0, -1, 'Crepe Bar'], [-3.5, -2, '99 Ranch Market'], [-4.0, -1, 'Tea Press'], [-3.7777777777777777, -9, 'BAMBU'], [-4.0, -1, \"Pho Huynh Hiep 6 - Kevin's Noodle House\"], [-4.0625, -16, 'i-Tea'], [-4.0, -4, 'Yogurtland'], [-4.0, -6, 'Boba Guys'], [-4.0, -2, 'Asha Tea House'], [-4.0, -1, 'Korea House'], [-4.0, -1, 'Sno-Crave Teahouse'], [-3.5, -18, 'T4'], [-4.0, -1, 'Viet Nam Noodle House'], [-3.5, -1, 'Bubble Loca'], [-3.8, -15, 'Sharetea'], [-3.8, -15, 'Sharetea'], [-4.0, -6, 'Boba Guys'], [-4.357142857142857, -7, 'Happy Lemon'], [-3.5, -2, 'Sweetheart Cafe'], [-3.625, -4, 'Fantasia Coffee & Tea'], [-4.0, -1, 'InfiniTea'], [-4.357142857142857, -7, 'Happy Lemon'], [-3.5, -18, 'T4'], [-4.0, -1, 'Polaris Ice Cream Rolls'], [-3.5, -2, 'Milkcow'], [-4.0, -1, 'Creative Sips'], [-4.0, -1, 'Tastea'], [-3.5, -1, 'What8ver Express'], [-3.5, -1, 'Jovie Coffee & Pho'], [-3.8125, -8, 'Gong Cha'], [-4.0, -1, 'Pho #1'], [-3.8, -15, 'Sharetea'], [-3.5, -2, 'Yo Sushi'], [-4.0, -1, 'Tea Lyfe Drinks'], [-3.8, -15, 'Sharetea'], [-4.0, -1, 'Bubble Tea Time'], [-4.0, -1, 'Fashion Wok'], [-4.0, -1, 'Beastea'], [-4.0, -1, 'TJ Cups'], [-4.0, -1, 'Boba Pub'], [-3.5, -1, 'Myung Dong Tofu Cabin'], [-3.5, -1, 'East 14th Bakery & Cafe'], [-3.5, -1, 'Factory Tea Bar'], [-3.5, -3, '85°C Bakery Cafe'], [-4.0, -1, 'Icicles'], [-4.0, -1, 'Cafe Sorriso'], [-3.5, -1, 'Boba Bar'], [-3.5, -1, 'Ocha Tea Café & Restaurant'], [-3.5, -1, 'Bubble Bay Tea'], [-4.0, -1, 'Sinceretea'], [-3.5, -1, 'CaFace'], [-4.0625, -16, 'i-Tea'], [-3.5, -1, 'Craw Station'], [-4.0, -1, 'Butterfly'], [-4.0, -1, 'Yo Bowl'], [-4.0, -1, 'Yogurt Hill'], [-4.0, -1, 'T4 Livermore'], [-4.0625, -16, 'i-Tea'], [-3.8125, -8, 'Gong Cha'], [-4.0, -1, 'Donut Wheel'], [-3.5, -18, 'T4'], [-4.0, -1, 'Saigon Cafe'], [-3.5, -1, 'Rice Paper Bistro'], [-4.0, -1, 'Tleaf Teapresso'], [-4.0, -1, 'Tea Villa'], [-4.0, -1, 'La Farfalla Bakery'], [-3.5, -2, 'Mr Green Bubble'], [-4.0, -1, 'Yogurt Shop'], [-4.0, -1, 'Bubbly'], [-4.0, -4, 'Yogurtland'], [-3.3333333333333335, -3, 'Jazen Tea'], [-3.5, -18, 'T4'], [-3.5, -1, 'Pearl Cafe'], [-3.4166666666666665, -6, 'Tapioca Express'], [-3.5, -1, 'Tea Six'], [-4.0, -1, 'Pop Tea Bar'], [-3.5, -1, 'BB Tea Station'], [-3.5, -2, 'Teasociety'], [-3.5, -1, 'Mi-Tea'], [-4.0, -1, 'Shincha Tea'], [-3.8, -15, 'Sharetea'], [-4.0, -1, 'Yummi Tea Cafe'], [-3.25, -2, 'Sno-Crave Tea House'], [-3.0, -2, 'Sancha Bar'], [-3.5, -1, 'Pure Tea Bar'], [-3.5, -1, 'Chick & Tea'], [-3.5, -1, \"Queen's Cafe\"], [-3.6, -5, 'Super Cue Cafe'], [-3.7777777777777777, -9, 'BAMBU'], [-3.0, -1, 'Black Pearl'], [-3.0, -1, 'Tata Teahouse'], [-3.5, -1, 'E Tea'], [-3.5, -1, 'Simpletea'], [-3.5, -1, 'Monster Boba'], [-3.5, -1, 'Mr & Mrs Tea House'], [-3.625, -4, 'Fantasia Coffee & Tea'], [-3.12, -25, 'Quickly'], [-3.5, -2, 'Teasociety'], [-3.5, -1, 'Joy 4 Tea'], [-4.0, -1, 'Teatime'], [-3.8125, -8, 'Gong Cha'], [-4.0, -1, 'Comebuy Drinks'], [-3.5, -1, 'Gosu'], [-3.5, -1, 'pokéLOVE'], [-3.8, -15, 'Sharetea'], [-3.5, -1, 'Tea Time'], [-3.5, -1, 'Tea Station'], [-3.5, -1, 'Happy Donuts'], [-3.12, -25, 'Quickly'], [-3.5, -1, 'Cuppa'], [-3.12, -25, 'Quickly'], [-3.5, -1, 'Icy Blue'], [-3.75, -2, 'CREAM'], [-4.0, -1, 'The Tea Zone Lounge'], [-3.5, -1, 'The Moo Bar'], [-3.5, -1, 'Milk and Honey Cafe'], [-3.4166666666666665, -6, 'Tapioca Express'], [-3.5, -1, 'Wild Berry Yogurt'], [-3.5, -1, 'The Posh Bagel'], [-3.5, -1, 'Paris Baguette'], [-3.6, -5, 'Super Cue Cafe'], [-3.5, -1, 'Rojoz Gourmet Wraps'], [-3.25, -2, 'Sno-Crave Tea House'], [-4.0, -1, 'Morimoto Napa'], [-3.5, -1, 'YoBelle'], [-3.5, -1, 'Dohatsuten'], [-2.0, -1, 'Panda Express'], [-3.0, -1, 'Napa Noodles'], [-3.5, -1, 'Crave Cafe & Catering'], [-3.5, -1, 'Koma Sushi Restaurant'], [-2.5, -1, 'The Axe and Palm'], [-3.12, -25, 'Quickly'], [-3.5, -1, 'Top That Frozen Yogurt'], [-3.5, -1, 'Hotpot First'], [-2.5, -1, 'Over The Top Shop Frozen Yogurt'], [-2.5, -1, 'Jazen Tea Santa Clara'], [-3.5, -1, 'Sweethut'], [-4.0, -1, 'Sushi Grill'], [-2.5, -1, 'Youji Fresh Rolls Wine & Tea'], [-3.4166666666666665, -6, 'Tapioca Express'], [-3.5, -1, 'Green Bamboo Restaurant'], [-3.5, -1, 'FrosTea'], [-3.5, -1, 'Thai Kitchen'], [-3.5, -1, 'SactoMofo'], [-3.5, -1, 'Teaone'], [-4.0, -3, 'Eggettes'], [-3.5, -1, 'Boba Queen'], [-3.75, -4, 'Tpumps'], [-3.8125, -8, 'Gong Cha'], [-4.0, -1, 'Search Tea'], [-3.5, -1, 'Honey Creme &Tea'], [-3.5, -18, 'T4'], [-3.5, -1, 'Aroma Tapioca Tea & Coffee'], [-3.5, -1, 'Boba Dude'], [-3.5, -1, 'T4 Tea'], [-3.8125, -8, 'Gong Cha'], [-3.5, -18, 'T4'], [-3.6, -5, 'Super Cue Cafe'], [-3.7777777777777777, -9, 'BAMBU'], [-3.7777777777777777, -9, 'BAMBU'], [-3.6666666666666665, -3, 'Chatime'], [-3.75, -4, 'Tpumps'], [-3.5, -2, 'Mr Green Bubble'], [-3.6666666666666665, -3, 'Chatime'], [-3.12, -25, 'Quickly'], [-3.0, -1, 'Fresh Nation Desserts'], [-3.12, -25, 'Quickly'], [-3.8, -15, 'Sharetea'], [-2.5, -1, 'LeTea'], [-3.5, -1, 'Dessert Republic'], [-3.0, -1, 'Tea Breeze'], [-3.7777777777777777, -9, 'BAMBU'], [-3.5, -1, 'Taro Taro Dessert & Tea House'], [-3.12, -25, 'Quickly'], [-3.5, -18, 'T4'], [-3.12, -25, 'Quickly'], [-4.0, -1, 'Wonderful Dessert & Cafe'], [-4.0, -1, 'Moo Moo Yogurt'], [-3.0, -1, 'Boiling Point'], [-3.5, -1, 'Boba Fitt Drinks'], [-3.12, -25, 'Quickly'], [-3.75, -2, 'CREAM'], [-3.5, -1, 'Never Too Latte'], [-4.0, -1, 'The Sweet Booth'], [-4.0, -1, 'Mini Coffee'], [-3.0, -1, 'Sweet Indulgence'], [-3.5, -1, 'Sweet Home Cafe'], [-3.12, -25, 'Quickly'], [-3.5, -1, 'Bobo Drinks'], [-3.0, -1, 'T4 Tea For U'], [-3.5, -18, 'T4'], [-4.0, -1, 'Peace Love & Boba'], [-3.0, -1, 'Ohana Hawaiian BBQ of Pleasanton'], [-3.12, -25, 'Quickly'], [-3.5, -2, '99 Ranch Market'], [-3.8, -15, 'Sharetea'], [-3.12, -25, 'Quickly'], [-3.8, -15, 'Sharetea'], [-3.12, -25, 'Quickly'], [-4.0, -1, 'Little Sweet'], [-3.0, -1, 'Berry Delight'], [-3.4166666666666665, -6, 'Tapioca Express'], [-3.75, -2, 'Cafe Tapioca'], [-3.8125, -8, 'Gong Cha'], [-3.0, -1, 'Tutti Frutti Frozen Yogurt'], [-3.5, -18, 'T4'], [-3.5, -1, 'Bobaloca'], [-3.5, -1, 'Teabo Café'], [-3.5, -1, 'Lazi Cow'], [-3.5, -18, 'T4'], [-3.5, -1, 'T4 - Concord'], [-3.5, -1, 'Koi Palace'], [-2.5, -1, 'Berry & Berry Yogurt'], [-3.5, -1, 'CJ Fusion'], [-3.0, -1, 'Pho Saigon City'], [-3.5, -1, 'TeaOne'], [-3.5, -3, 'Purple Kow'], [-3.5, -18, 'T4'], [-3.5, -1, 'Teaway'], [-3.5, -1, \"Lee's Sandwiches\"], [-3.0, -1, 'Osaka Ramen'], [-3.5, -1, 'Sharetea Davis'], [-3.4, -5, 'Pho Lee Hoa Phat'], [-4.0, -1, 'Pho 99'], [-3.0, -1, 'Noodle House'], [-3.0, -1, 'SISIG'], [-3.0, -1, 'Halu Shabu Shabu'], [-4.0, -1, 'Yumygurt'], [-3.0, -1, 'Vampire Penguin'], [-3.5, -1, 'Plentea - San Francisco'], [-3.12, -25, 'Quickly'], [-3.4, -5, 'Pho Lee Hoa Phat'], [-3.5, -1, 'Pho Saigon Noodle House'], [-3.5, -2, 'Sweetheart Cafe'], [-3.5, -1, 'CHALOGY Tea Bar'], [-3.5, -3, '85°C Bakery Cafe'], [-3.5, -1, 'BlackBall Desserts-Union City'], [-3.12, -25, 'Quickly'], [-3.12, -25, 'Quickly'], [-3.12, -25, 'Quickly'], [-4.0, -1, 'Tea Delight'], [-4.0, -1, 'Panache Caffe'], [-3.5, -3, 'Purple Kow'], [-3.5, -2, 'Surf City Squeeze'], [-4.0, -1, 'My Delights'], [-4.0, -1, 'Hello Pho'], [-3.5, -1, 'I Love Teriyaki & Sushi'], [-3.5, -1, '50 Tea'], [-3.0, -1, 'Q Cup'], [-3.5, -1, 'Saigon Bistro'], [-3.5, -1, 'Double Rainbow Cafe'], [-3.7777777777777777, -9, 'BAMBU'], [-3.0, -1, 'Jollibee'], [-3.5, -1, \"Pho Huynh Hiep 5 - Kevin's Noodle House\"], [-3.4, -5, 'Pho Lee Hoa Phat'], [-4.0, -1, 'Taiwan Bento'], [-3.5, -1, 'Smitten Ice Cream'], [-4.0, -1, 'Q-Tea Monster'], [-3.0, -1, 'U Tea Cafe'], [-4.0, -1, \"Jenjon's Cafe\"], [-4.0, -1, 'K-Pop Cafe'], [-4.0, -1, 'Tutti Frutti Montclair'], [-3.5, -2, 'Milkcow'], [-3.5, -2, 'Surf City Squeeze'], [-3.5, -18, 'T4'], [-4.0, -1, 'LV Vietnamese Pho and Sandwiches'], [-3.5, -1, 'Teazzert'], [-3.5, -2, 'Yo Sushi'], [-3.0, -1, 'Pho Hoa An'], [-3.5, -1, 'Saigon Bistro Restaurant'], [-3.4, -5, 'Pho Lee Hoa Phat'], [-3.5, -18, 'T4'], [-3.5, -1, 'Teaster'], [-3.5, -1, 'Little Hearty Noodle'], [-3.6, -5, 'Super Cue Cafe'], [-3.5, -1, 'Tala Coffee & Tea'], [-3.6666666666666665, -3, 'Chatime'], [-3.5, -1, 'TPartea Boba Drinks And Banh Mi'], [-3.5, -1, 'Sunny Day Sweet House'], [-4.0, -1, 'Eko Coffee Bar & Tea House'], [-4.0, -2, 'Tea Era'], [-3.12, -25, 'Quickly'], [-3.0, -2, 'Sancha Bar'], [-3.5, -1, 'Tay Tah Cafe'], [-3.5, -1, 'TeaOne Berkeley'], [-2.0, -1, 'Quickly - Kobe Bento'], [-3.12, -25, 'Quickly'], [-3.6, -5, 'Super Cue Cafe'], [-3.8, -15, 'Sharetea'], [-3.8, -15, 'Sharetea'], [-3.5, -18, 'T4'], [-3.12, -25, 'Quickly'], [-3.0, -1, 'Meet Fresh'], [-4.0, -1, 'Ten Ren Tea'], [-3.12, -25, 'Quickly'], [-3.5, -1, 'Satori Tea Company'], [-3.5, -1, 'Hechaa'], [-4.0, -1, 'STEEP'], [-3.5, -1, 'uRbain tea'], [-3.5, -2, 'Snowflake'], [-3.5, -1, 'YoDo Yogurt'], [-2.5, -1, 'Caffé Central'], [-3.0, -1, 'Bar Code'], [-3.5, -1, 'Shooting Star Cafe'], [-3.5, -1, 'Tous Les Jours'], [-3.5, -1, 'Cafe LaTTea'], [-3.75, -4, 'Tpumps'], [-4.0, -1, 'T4 Cupertino'], [-3.0, -1, 'Sunshine Bakery'], [-3.0, -1, 'Original Red Onion'], [-3.0, -1, 'Tea Chansii'], [-3.5, -1, 'Midori Japanese Cuisine'], [-3.4, -5, 'Pho Lee Hoa Phat'], [-3.5, -1, 'Verde Tea House'], [-3.0, -1, 'Pho Lee Hoa Phat 2'], [-3.0, -1, 'Chowking'], [-4.0, -1, 'Tacos Jalisco'], [-4.0, -1, 'Mr. T Cafe'], [-4.0, -1, 'Teahee'], [-3.5, -1, 'Pho New Saigon'], [-3.5, -1, 'Hongry Kong'], [-3.0, -1, 'Marina Food'], [-3.5, -1, 'Cooking Papa Restaurant'], [-3.0, -1, 'Sheng Kee Bakery'], [-4.0, -1, 'Tea Annie'], [-3.0, -1, 'Pho Little Saigon'], [-3.5, -1, 'Verde Tea Cafe'], [-3.0, -1, 'Bagel Street Cafe'], [-3.5, -1, 'TeaFans'], [-3.4166666666666665, -6, 'Tapioca Express'], [-3.12, -25, 'Quickly'], [-3.5, -1, 'Sweethoney Dessert'], [-3.5, -1, 'Hanoi Chicken Noodle'], [-2.0, -1, 'Loving Tea'], [-3.7777777777777777, -9, 'BAMBU'], [-3.5, -1, 'D T Dim Sum & Tea'], [-4.0, -1, 'Pop Up Tea, Coffee & Snacks'], [-4.0, -1, 'Sweet Dee Cupcakes & Snow Ice'], [-3.12, -25, 'Quickly'], [-3.4166666666666665, -6, 'Tapioca Express'], [-2.5, -1, 'Leisure Cafe'], [-3.12, -25, 'Quickly'], [-2.0, -1, 'China Kitchen Express'], [-3.5, -1, 'Pho An Hoa'], [-3.3333333333333335, -3, 'Jazen Tea'], [-3.5, -1, 'Tuttimelon'], [-3.5, -1, 'Comebuy Tea & Coffee'], [-3.5, -1, 'Hot Spot'], [-3.5, -1, 'Music Tunnel KTV Cafe'], [-4.0, -1, 'Taqueria Los Pericos'], [-3.3333333333333335, -3, 'Jazen Tea'], [-3.5, -1, 'Pho Anh-Ha'], [-4.0, -1, 'R & D Cafe'], [-4.0, -1, 'Munch'], [-3.12, -25, 'Quickly'], [-3.5, -1, 'Foodnet Supermarket'], [-3.5, -1, 'Bubblecup'], [-3.0, -1, 'Alohana Hawaiian Grill']]\n"
     ]
    }
   ],
   "source": [
    "# First we will do an amounts bar graph visualization where the x axis will represent boba shops,\n",
    "#  and the y axis will represent the rating\n",
    "\n",
    "# We will graph the top 25 and the lowest 25 rating stores since there are so many.\n",
    "\n",
    "\n",
    "# Top 25 Scores:\n",
    "\n",
    "# We will use a priority queue for this portion since its easier to get the top 25 values\n",
    "prio_queue = []\n",
    "top_25_stores = np.zeros(25)\n",
    "for i in range(len(shop_names)):\n",
    "    new_list = [0,0,0]\n",
    "    pair = hashmap[shop_names[i]]\n",
    "    new_list[0] = pair[0] * -1\n",
    "    new_list[1] = pair[1] * - 1\n",
    "    new_list[2] = shop_names[i]\n",
    "    heapq.heappush(prio_queue, new_list)\n",
    "print(prio_queue)"
   ]
  }
 ],
 "metadata": {
  "kernelspec": {
   "display_name": "Python 3.10.6 64-bit",
   "language": "python",
   "name": "python3"
  },
  "language_info": {
   "codemirror_mode": {
    "name": "ipython",
    "version": 3
   },
   "file_extension": ".py",
   "mimetype": "text/x-python",
   "name": "python",
   "nbconvert_exporter": "python",
   "pygments_lexer": "ipython3",
   "version": "3.10.6"
  },
  "orig_nbformat": 4,
  "vscode": {
   "interpreter": {
    "hash": "aee8b7b246df8f9039afb4144a1f6fd8d2ca17a180786b69acc140d282b71a49"
   }
  }
 },
 "nbformat": 4,
 "nbformat_minor": 2
}
