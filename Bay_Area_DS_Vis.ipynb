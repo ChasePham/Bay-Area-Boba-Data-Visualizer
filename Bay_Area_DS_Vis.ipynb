{
 "cells": [
  {
   "cell_type": "code",
   "execution_count": 2,
   "metadata": {},
   "outputs": [],
   "source": [
    "# Gets necessary imports\n",
    "import numpy as np\n",
    "import pandas as pd\n",
    "import matplotlib.pyplot as plt"
   ]
  },
  {
   "cell_type": "code",
   "execution_count": 12,
   "metadata": {},
   "outputs": [
    {
     "name": "stdout",
     "output_type": "stream",
     "text": [
      "0          Fremont\n",
      "1          Fremont\n",
      "2          Fremont\n",
      "3          Fremont\n",
      "4          Fremont\n",
      "          ...     \n",
      "598        Hayward\n",
      "599    San Leandro\n",
      "600        Hayward\n",
      "601        Hayward\n",
      "602    San Leandro\n",
      "Name: city, Length: 603, dtype: object\n"
     ]
    }
   ],
   "source": [
    "boba_data_set = pd.read_csv('bayarea_boba_spots.csv') # Reads the data set\n",
    "\n",
    "# Organizes the data into their own individual variables\n",
    "shop_names = boba_data_set['name']\n",
    "ratings = boba_data_set['rating']\n",
    "cities = boba_data_set['city']\n",
    "latitudes = boba_data_set['lat']\n",
    "longitudes = boba_data_set['long']"
   ]
  }
 ],
 "metadata": {
  "kernelspec": {
   "display_name": "Python 3.10.6 64-bit",
   "language": "python",
   "name": "python3"
  },
  "language_info": {
   "codemirror_mode": {
    "name": "ipython",
    "version": 3
   },
   "file_extension": ".py",
   "mimetype": "text/x-python",
   "name": "python",
   "nbconvert_exporter": "python",
   "pygments_lexer": "ipython3",
   "version": "3.10.6"
  },
  "orig_nbformat": 4,
  "vscode": {
   "interpreter": {
    "hash": "aee8b7b246df8f9039afb4144a1f6fd8d2ca17a180786b69acc140d282b71a49"
   }
  }
 },
 "nbformat": 4,
 "nbformat_minor": 2
}
