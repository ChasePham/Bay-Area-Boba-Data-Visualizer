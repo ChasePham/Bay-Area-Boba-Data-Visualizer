{
 "cells": [
  {
   "cell_type": "code",
   "execution_count": 2,
   "metadata": {},
   "outputs": [],
   "source": [
    "# Gets necessary imports\n",
    "import numpy as np\n",
    "import pandas as pd\n",
    "import matplotlib.pyplot as plt"
   ]
  },
  {
   "cell_type": "code",
   "execution_count": 14,
   "metadata": {},
   "outputs": [
    {
     "name": "stdout",
     "output_type": "stream",
     "text": [
      "0        452600.0\n",
      "1        358500.0\n",
      "2        352100.0\n",
      "3        341300.0\n",
      "4        342200.0\n",
      "           ...   \n",
      "20635     78100.0\n",
      "20636     77100.0\n",
      "20637     92300.0\n",
      "20638     84700.0\n",
      "20639     89400.0\n",
      "Name: median_house_value, Length: 20640, dtype: float64\n"
     ]
    }
   ],
   "source": [
    "boba_data_set = pd.read_csv('bayarea_boba_spots.csv') # Reads the boba data set\n",
    "\n",
    "# Organizes the boba data into their own individual variables\n",
    "shop_names = boba_data_set['name']\n",
    "ratings = boba_data_set['rating']\n",
    "cities = boba_data_set['city']\n",
    "latitudes = boba_data_set['lat']\n",
    "longitudes = boba_data_set['long']\n",
    "\n",
    "housing_data_set = pd.read_csv('housing.csv') # Reads the housing data set\n",
    "\n",
    "# Organizes the housing data into their own individual variables\n",
    "longitudes_house = housing_data_set['longitude']\n",
    "latitudes_house = housing_data_set['latitude']\n",
    "house_values = housing_data_set['median_house_value']"
   ]
  }
 ],
 "metadata": {
  "kernelspec": {
   "display_name": "Python 3.10.6 64-bit",
   "language": "python",
   "name": "python3"
  },
  "language_info": {
   "codemirror_mode": {
    "name": "ipython",
    "version": 3
   },
   "file_extension": ".py",
   "mimetype": "text/x-python",
   "name": "python",
   "nbconvert_exporter": "python",
   "pygments_lexer": "ipython3",
   "version": "3.10.6"
  },
  "orig_nbformat": 4,
  "vscode": {
   "interpreter": {
    "hash": "aee8b7b246df8f9039afb4144a1f6fd8d2ca17a180786b69acc140d282b71a49"
   }
  }
 },
 "nbformat": 4,
 "nbformat_minor": 2
}
