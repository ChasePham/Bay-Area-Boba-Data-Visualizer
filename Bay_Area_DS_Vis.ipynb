{
 "cells": [
  {
   "cell_type": "code",
   "execution_count": 2,
   "metadata": {},
   "outputs": [],
   "source": [
    "# Gets necessary imports\n",
    "import numpy as np\n",
    "import pandas as pd\n",
    "import matplotlib.pyplot as plt"
   ]
  },
  {
   "cell_type": "code",
   "execution_count": null,
   "metadata": {},
   "outputs": [],
   "source": [
    "boba_data_set = pd.read_csv('bayarea_boba_spots.csv') # Reads the boba data set\n",
    "\n",
    "# Organizes the boba data into their own individual variables\n",
    "shop_names = boba_data_set['name'] # Gets all shop names\n",
    "ratings = boba_data_set['rating'] # Gets all ratings\n",
    "cities = boba_data_set['city'] # Gets all cities\n",
    "latitudes = boba_data_set['lat'] # Gets the latitudes\n",
    "longitudes = boba_data_set['long'] # Gets the Longitudes\n",
    "\n",
    "housing_data_set = pd.read_csv('housing.csv') # Reads the housing data set\n",
    "\n",
    "# Organizes the housing data into their own individual variables\n",
    "longitudes_house = housing_data_set['longitude'] # Gets the longitudes of the houses\n",
    "latitudes_house = housing_data_set['latitude'] # Gets the latitidues of the houses\n",
    "house_values = housing_data_set['median_house_value'] # Gets the median house values"
   ]
  },
  {
   "cell_type": "code",
   "execution_count": null,
   "metadata": {},
   "outputs": [],
   "source": []
  }
 ],
 "metadata": {
  "kernelspec": {
   "display_name": "Python 3.10.6 64-bit",
   "language": "python",
   "name": "python3"
  },
  "language_info": {
   "codemirror_mode": {
    "name": "ipython",
    "version": 3
   },
   "file_extension": ".py",
   "mimetype": "text/x-python",
   "name": "python",
   "nbconvert_exporter": "python",
   "pygments_lexer": "ipython3",
   "version": "3.10.6"
  },
  "orig_nbformat": 4,
  "vscode": {
   "interpreter": {
    "hash": "aee8b7b246df8f9039afb4144a1f6fd8d2ca17a180786b69acc140d282b71a49"
   }
  }
 },
 "nbformat": 4,
 "nbformat_minor": 2
}
